{
 "cells": [
  {
   "cell_type": "code",
   "execution_count": 6,
   "id": "2aceed32-9130-4985-85e4-5eee2dcd3a98",
   "metadata": {},
   "outputs": [],
   "source": [
    "import matplotlib.pyplot as plt\n",
    "import matplotlib.image as mpimg\n",
    "import numpy as np\n",
    "import numpy as np\n",
    "from scipy.signal import convolve2d\n",
    "from scipy.ndimage.filters import gaussian_filter\n",
    "import h5py\n",
    "import json\n",
    "import numpy as np\n",
    "from scipy import signal\n",
    "import os"
   ]
  },
  {
   "cell_type": "code",
   "execution_count": 7,
   "id": "224d06a2-cb9f-4db1-86cb-2136f000cba6",
   "metadata": {},
   "outputs": [],
   "source": [
    "img_path = \"Fine-Grained-Counting-Dataset/Fine-Grained-Counting-Dataset/Waiting_vs_Notwaiting/images/014.png\"\n",
    "pred_path = \"TestResults/FirstRun_Skip_Towards/vidf1_33_007_f118.png\"\n",
    "annot_path = \"Fine-Grained-Counting-Dataset/Fine-Grained-Counting-Dataset/Waiting_vs_Notwaiting/annotations/annotations.json\""
   ]
  },
  {
   "cell_type": "code",
   "execution_count": 8,
   "id": "9e33d3c4-2757-452c-b8cb-6463b8159212",
   "metadata": {},
   "outputs": [],
   "source": [
    "\n",
    "\n",
    "img = mpimg.imread(img_path)\n",
    "with open(annot_path, 'r') as f:\n",
    "    points_data = json.load(f)"
   ]
  },
  {
   "cell_type": "markdown",
   "id": "f36ca8b8-e7a3-4c2d-8c07-88ba5555e150",
   "metadata": {},
   "source": [
    "## Generate h5-files"
   ]
  },
  {
   "cell_type": "code",
   "execution_count": 9,
   "id": "ac984a5b-a06d-4090-b071-fa5d7521b233",
   "metadata": {},
   "outputs": [],
   "source": [
    "\n",
    "\n",
    "def gkern(kernlen=5, std=2):\n",
    "    \"\"\"Returns a 2D Gaussian kernel array.\"\"\"\n",
    "    gkern1d = signal.gaussian(kernlen, std=std).reshape(kernlen, 1)\n",
    "    gkern2d = np.outer(gkern1d, gkern1d)\n",
    "    return gkern2d/np.sum(gkern2d)\n"
   ]
  },
  {
   "cell_type": "code",
   "execution_count": 10,
   "id": "b46e7112-3c72-4a06-9c8f-2c017837f1b5",
   "metadata": {},
   "outputs": [],
   "source": [
    "def get_density_map_gaussian_new(im, points,sigma):\n",
    "    im_density = np.zeros(im.shape[0:2])\n",
    "    h, w = im_density.shape\n",
    "    for x,y in points:\n",
    "        im_density[y,x] = 1\n",
    "        \n",
    "    return gaussian_filter(im_density,sigma=sigma)\n",
    "\n",
    "#l = get_density_map_gaussian_new(img,np.array(list(zip(x_cord2,y_cord2))), 16)\n"
   ]
  },
  {
   "cell_type": "code",
   "execution_count": null,
   "id": "9b025463-a63a-4523-baf5-af766bd49c5b",
   "metadata": {},
   "outputs": [
    {
     "name": "stdout",
     "output_type": "stream",
     "text": [
      "0\n",
      "50\n",
      "100\n",
      "150\n"
     ]
    }
   ],
   "source": [
    "\n",
    "folder_dir = \"Fine-Grained-Counting-Dataset/Fine-Grained-Counting-Dataset/Waiting_vs_Notwaiting/images\"\n",
    "\n",
    "\n",
    "\n",
    "    \n",
    "    \n",
    "for i,image in enumerate(os.listdir(folder_dir)):\n",
    "    if image.endswith(\".png\") or image.endswith(\".jpg\"):\n",
    "        if i % 50 == 0:\n",
    "            print(i)\n",
    "        img = mpimg.imread(folder_dir + \"/\" + image)\n",
    "        im_density = np.zeros((2,)+img.shape[0:2])\n",
    "        for j in range(2):\n",
    "            y_cord = points_data[image][j][\"y\"]\n",
    "            x_cord = points_data[image][j][\"x\"]\n",
    "            im_density[j,:,:] = get_density_map_gaussian_new(img,np.array(list(zip(x_cord,y_cord))), 16)\n",
    "        with h5py.File(\"Fine-Grained-Counting-Dataset/Fine-Grained-Counting-Dataset/Waiting_vs_Notwaiting/ground-truths/\"+image[:-4]+\"_fix16.h5\", 'w') as f:\n",
    "            dset = f.create_dataset(\"density\", data=im_density)\n",
    "\n",
    "            "
   ]
  }
 ],
 "metadata": {
  "kernelspec": {
   "display_name": "CVFineGrained",
   "language": "python",
   "name": "cvfinegrained"
  },
  "language_info": {
   "codemirror_mode": {
    "name": "ipython",
    "version": 3
   },
   "file_extension": ".py",
   "mimetype": "text/x-python",
   "name": "python",
   "nbconvert_exporter": "python",
   "pygments_lexer": "ipython3",
   "version": "3.10.8"
  }
 },
 "nbformat": 4,
 "nbformat_minor": 5
}
