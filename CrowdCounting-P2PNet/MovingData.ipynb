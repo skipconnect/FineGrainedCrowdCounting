{
 "cells": [
  {
   "cell_type": "code",
   "execution_count": 1,
   "id": "f41bb2cd-3db9-4c91-ab10-be1a7392e436",
   "metadata": {},
   "outputs": [],
   "source": [
    "import json\n",
    "img_path = \"../FineGrainedCountingCV/Fine-Grained-Counting-Dataset/Fine-Grained-Counting-Dataset/Towards_vs_Away/images\"\n",
    "annot_path = \"../FineGrainedCountingCV/Fine-Grained-Counting-Dataset/Fine-Grained-Counting-Dataset/Towards_vs_Away/annotations\"\n",
    "train = \"../FineGrainedCountingCV/Fine-Grained-Counting-Dataset/Fine-Grained-Counting-Dataset/Towards_vs_Away/annotations/train.json\"\n",
    "val = \"../FineGrainedCountingCV/Fine-Grained-Counting-Dataset/Fine-Grained-Counting-Dataset/Towards_vs_Away/annotations/val.json\"\n",
    "test = \"../FineGrainedCountingCV/Fine-Grained-Counting-Dataset/Fine-Grained-Counting-Dataset/Towards_vs_Away/annotations/test.json\"\n",
    "\n",
    "with open(annot_path + \"/annotations.json\", 'r') as f:\n",
    "    points_data = json.load(f)\n",
    "    \n",
    "with open(train, 'r') as f:\n",
    "    train_imgs = json.load(f)\n",
    "\n",
    "with open(val, 'r') as f:\n",
    "    val_imgs = json.load(f)\n",
    "\n",
    "with open(test, 'r') as f:\n",
    "    test_imgs = json.load(f)\n",
    "\n",
    "    "
   ]
  },
  {
   "cell_type": "code",
   "execution_count": 16,
   "id": "cc3e24b7-3c4f-4439-ad2f-b215ef267997",
   "metadata": {},
   "outputs": [],
   "source": [
    "import shutil\n",
    "#Copying train images\n",
    "for i,img in enumerate(train_imgs,1):\n",
    "    src_path = img_path + \"/\" + img\n",
    "    dst_path = \"./DATA_ROOT_TOWARDS/train/scene01/\"+str(i)+\".png\"\n",
    "    shutil.copy(src_path, dst_path)"
   ]
  },
  {
   "cell_type": "code",
   "execution_count": 23,
   "id": "fc6bc85e-9076-4d72-94e3-20a256eb53bb",
   "metadata": {},
   "outputs": [],
   "source": [
    "import shutil\n",
    "#Copying Val images\n",
    "for i,img in enumerate(val_imgs,1):\n",
    "    src_path = img_path + \"/\" + img\n",
    "    dst_path = \"./DATA_ROOT_TOWARDS/test/scene01/\"+str(i)+\".png\"\n",
    "    shutil.copy(src_path, dst_path)"
   ]
  },
  {
   "cell_type": "code",
   "execution_count": 2,
   "id": "9b7924fb-9495-49ec-930f-575d5333d5ac",
   "metadata": {},
   "outputs": [],
   "source": [
    "import shutil\n",
    "#Copying TEST images\n",
    "for img in test_imgs:\n",
    "    src_path = img_path + \"/\" + img\n",
    "    dst_path = \"./DATA_ROOT_TOWARDS/eval_test/\"+img\n",
    "    shutil.copy(src_path, dst_path)"
   ]
  },
  {
   "cell_type": "code",
   "execution_count": 19,
   "id": "4897da92-d259-4779-9ef1-58341aa85a67",
   "metadata": {},
   "outputs": [],
   "source": [
    "#Handeling the targets (Train)\n",
    "for i,img in enumerate(train_imgs,1):\n",
    "    \n",
    "    tmpclass1 = list(zip(points_data[img][0][\"x\"],points_data[img][0][\"y\"]))\n",
    "    tmpclass1_ = [\"{x} {y} 1\\n\".format(x=x,y=y) for (x,y) in tmpclass1]\n",
    "    \n",
    "    tmpclass2 = list(zip(points_data[img][1][\"x\"],points_data[img][1][\"y\"]))\n",
    "    tmpclass2_ = [\"{x} {y} 2\\n\".format(x=x,y=y) for (x,y) in tmpclass2]\n",
    "    tmp1 = tmpclass1_ + tmpclass2_\n",
    "    if len(tmp1)>0:\n",
    "        tmp1[-1] = tmp1[-1][0:-1]\n",
    "    with open(\"./DATA_ROOT_TOWARDS/train/scene01/\"+str(i)+\".txt\", \"w\") as f:\n",
    "        f.writelines(tmp1)\n",
    "    \n",
    "    "
   ]
  },
  {
   "cell_type": "code",
   "execution_count": 22,
   "id": "706a74e3-996c-4a5b-9093-1db805e02972",
   "metadata": {},
   "outputs": [],
   "source": [
    "#Handeling the targets (Val)\n",
    "for i,img in enumerate(val_imgs,1):\n",
    "    \n",
    "    tmpclass1 = list(zip(points_data[img][0][\"x\"],points_data[img][0][\"y\"]))\n",
    "    tmpclass1_ = [\"{x} {y} 1\\n\".format(x=x,y=y) for (x,y) in tmpclass1]\n",
    "    \n",
    "    tmpclass2 = list(zip(points_data[img][1][\"x\"],points_data[img][1][\"y\"]))\n",
    "    tmpclass2_ = [\"{x} {y} 2\\n\".format(x=x,y=y) for (x,y) in tmpclass2]\n",
    "    tmp1 = tmpclass1_ + tmpclass2_\n",
    "    if len(tmp1)>0:\n",
    "        tmp1[-1] = tmp1[-1][0:-1]\n",
    "    with open(\"./DATA_ROOT_TOWARDS/test/scene01/\"+str(i)+\".txt\", \"w\") as f:\n",
    "        f.writelines(tmp1)\n"
   ]
  },
  {
   "cell_type": "code",
   "execution_count": 21,
   "id": "e587487b-c8cb-4d8a-ae45-c029fc2a0b1a",
   "metadata": {},
   "outputs": [],
   "source": [
    "#handeling the lists\n",
    "\n",
    "#Except those without points!!\n",
    "train_remove = []\n",
    "for img in train_imgs:\n",
    "    \n",
    "    tmp = list(zip(points_data[img][0][\"x\"],points_data[img][0][\"y\"]))\n",
    "    tmp1 = [\"{x} {y}\\n\".format(x=x,y=y) for (x,y) in tmp]\n",
    "    if len(tmp1)==0:\n",
    "        #train_remove.append(img)\n",
    "        pass\n",
    "eval_remove = []\n",
    "for img in val_imgs:\n",
    "    \n",
    "    tmp = list(zip(points_data[img][0][\"x\"],points_data[img][0][\"y\"]))\n",
    "    tmp1 = [\"{x} {y}\\n\".format(x=x,y=y) for (x,y) in tmp]\n",
    "    if len(tmp1)==0:\n",
    "        #eval_remove.append(img)\n",
    "        pass\n",
    "\n",
    "trains = [\"{img_} {gt}\\n\".format(img_ = \"train/scene01/{file}.png\".format(file=i), gt=\"train/scene01/{file}.txt\".format(file=i)) for i,file in enumerate(train_imgs,1) if file not in train_remove]\n",
    "trains[-1] = trains[-1][0:-1]\n",
    "with open(\"./DATA_ROOT_TOWARDS/trainlist.txt\", \"w\") as f:\n",
    "        f.writelines(trains)\n",
    "\n",
    "evals = [\"{img_} {gt}\\n\".format(img_ = \"test/scene01/{file}.png\".format(file=i), gt=\"test/scene01/{file}.txt\".format(file=i)) for i,file in enumerate(val_imgs,1) if file not in eval_remove]\n",
    "evals[-1] = evals[-1][0:-1]\n",
    "\n",
    "with open(\"./DATA_ROOT_TOWARDS/evallist.txt\", \"w\") as f:\n",
    "        f.writelines(evals)\n",
    "\n"
   ]
  },
  {
   "cell_type": "code",
   "execution_count": 56,
   "id": "1757950c-9d86-4b32-af0f-2509da98cdf2",
   "metadata": {},
   "outputs": [
    {
     "name": "stdout",
     "output_type": "stream",
     "text": [
      "013.jpg\n",
      "043.jpg\n",
      "048.jpg\n",
      "116.jpg\n",
      "133.jpg\n",
      "141.jpg\n",
      "167.jpg\n",
      "172.jpg\n",
      "174.jpg\n",
      "254.jpg\n",
      "265.jpg\n",
      "282.jpg\n",
      "283.jpg\n",
      "306.jpg\n",
      "324.jpg\n"
     ]
    }
   ],
   "source": [
    "for img in train_imgs:\n",
    "    \n",
    "    tmp = list(zip(points_data[img][0][\"x\"],points_data[img][0][\"y\"]))\n",
    "    tmp1 = [\"{x} {y}\\n\".format(x=x,y=y) for (x,y) in tmp]\n",
    "    if len(tmp1)==0:\n",
    "        print(img)\n",
    "    \n",
    "    "
   ]
  }
 ],
 "metadata": {
  "kernelspec": {
   "display_name": "CVFineGrained",
   "language": "python",
   "name": "cvfinegrained"
  },
  "language_info": {
   "codemirror_mode": {
    "name": "ipython",
    "version": 3
   },
   "file_extension": ".py",
   "mimetype": "text/x-python",
   "name": "python",
   "nbconvert_exporter": "python",
   "pygments_lexer": "ipython3",
   "version": "3.10.8"
  }
 },
 "nbformat": 4,
 "nbformat_minor": 5
}
